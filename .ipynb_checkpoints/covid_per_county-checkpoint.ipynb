{
 "cells": [
  {
   "cell_type": "code",
   "execution_count": 63,
   "id": "2bf77165",
   "metadata": {},
   "outputs": [
    {
     "data": {
      "text/html": [
       "<div>\n",
       "<style scoped>\n",
       "    .dataframe tbody tr th:only-of-type {\n",
       "        vertical-align: middle;\n",
       "    }\n",
       "\n",
       "    .dataframe tbody tr th {\n",
       "        vertical-align: top;\n",
       "    }\n",
       "\n",
       "    .dataframe thead th {\n",
       "        text-align: right;\n",
       "    }\n",
       "</style>\n",
       "<table border=\"1\" class=\"dataframe\">\n",
       "  <thead>\n",
       "    <tr style=\"text-align: right;\">\n",
       "      <th></th>\n",
       "      <th>Name</th>\n",
       "      <th>State</th>\n",
       "      <th>Population</th>\n",
       "      <th>PerCapitaIncome</th>\n",
       "      <th>Poverty</th>\n",
       "      <th>ID</th>\n",
       "    </tr>\n",
       "  </thead>\n",
       "  <tbody>\n",
       "    <tr>\n",
       "      <th>1764</th>\n",
       "      <td>Loving County</td>\n",
       "      <td>Texas</td>\n",
       "      <td>74</td>\n",
       "      <td>35530.0</td>\n",
       "      <td>17.1</td>\n",
       "      <td>101765</td>\n",
       "    </tr>\n",
       "  </tbody>\n",
       "</table>\n",
       "</div>"
      ],
      "text/plain": [
       "               Name  State  Population  PerCapitaIncome  Poverty      ID\n",
       "1764  Loving County  Texas          74          35530.0     17.1  101765"
      ]
     },
     "execution_count": 63,
     "metadata": {},
     "output_type": "execute_result"
    }
   ],
   "source": [
    "import pandas as pd\n",
    "import json\n",
    "\n",
    "# Read in census data csv, filter out extra columns, and change column names to match instrucitons\n",
    "file_path = 'data/acs2017_census_tract_data.csv'\n",
    "columns = ['County', 'State', 'TotalPop', 'Poverty', 'IncomePerCap']\n",
    "county_info = pd.read_csv(file_path, usecols=columns)\n",
    "county_info = county_info.rename(columns={'County': 'Name', 'TotalPop': 'Population', 'IncomePerCap': 'PerCapitaIncome'})\n",
    "\n",
    "# Count the number of times each county appears in the data set to use for later calculations\n",
    "county_count = {}\n",
    "def count_entries(row):\n",
    "    county_name = row['Name']\n",
    "    if county_name in county_count:\n",
    "        county_count[county_name] += 1\n",
    "    else:\n",
    "        county_count[county_name] = 1        \n",
    "county_info.apply(count_entries, axis=1)\n",
    "\n",
    "# Combine rows with duplicate county names\n",
    "county_info = county_info.groupby(['Name', 'State']).sum().reset_index()\n",
    "\n",
    "def avg_income_per_cap(row):\n",
    "    entry_count = county_count[row['Name']]\n",
    "    return row['PerCapitaIncome'] / entry_count\n",
    "\n",
    "def avg_poverty(row):\n",
    "    entry_count = county_count[row['Name']]\n",
    "    return row['Poverty'] / entry_count\n",
    "\n",
    "id_counter = 100000\n",
    "def add_id(row):\n",
    "    global id_counter\n",
    "    id_counter += 1\n",
    "    return id_counter\n",
    "\n",
    "county_info['PerCapitaIncome'] = county_info.apply(avg_income_per_cap, axis=1)\n",
    "county_info['Poverty'] = county_info.apply(avg_poverty, axis=1)\n",
    "county_info['ID'] = county_info.apply(add_id, axis=1)\n",
    "\n",
    "\n",
    "    \n",
    "# county_info.loc[county_info['Name'] == 'Malheur County'].loc[county_info['State'] == 'Oregon']\n",
    "\n",
    "# pop = county_info['Population'].min()\n",
    "# county_info.loc[county_info['Population'] == pop]\n",
    "\n",
    "\n",
    "\n"
   ]
  },
  {
   "cell_type": "code",
   "execution_count": null,
   "id": "9963d1c1",
   "metadata": {},
   "outputs": [],
   "source": []
  },
  {
   "cell_type": "code",
   "execution_count": null,
   "id": "83736922",
   "metadata": {},
   "outputs": [],
   "source": []
  }
 ],
 "metadata": {
  "kernelspec": {
   "display_name": "Python 3 (ipykernel)",
   "language": "python",
   "name": "python3"
  },
  "language_info": {
   "codemirror_mode": {
    "name": "ipython",
    "version": 3
   },
   "file_extension": ".py",
   "mimetype": "text/x-python",
   "name": "python",
   "nbconvert_exporter": "python",
   "pygments_lexer": "ipython3",
   "version": "3.9.7"
  }
 },
 "nbformat": 4,
 "nbformat_minor": 5
}
